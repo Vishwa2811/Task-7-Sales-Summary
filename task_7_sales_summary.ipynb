{
  "nbformat": 4,
  "nbformat_minor": 0,
  "metadata": {
    "colab": {
      "provenance": []
    },
    "kernelspec": {
      "name": "python3",
      "display_name": "Python 3"
    },
    "language_info": {
      "name": "python"
    }
  },
  "cells": [
    {
      "cell_type": "code",
      "execution_count": 1,
      "metadata": {
        "colab": {
          "base_uri": "https://localhost:8080/"
        },
        "id": "wPJcjdKCrtPl",
        "outputId": "1b20f1b1-29cf-48f2-e7df-6f33b8359346"
      },
      "outputs": [
        {
          "output_type": "stream",
          "name": "stdout",
          "text": [
            "sales_data.db created with sample data.\n"
          ]
        }
      ],
      "source": [
        "import sqlite3\n",
        "\n",
        "# Create and connect to SQLite database\n",
        "conn = sqlite3.connect(\"sales_data.db\")\n",
        "cursor = conn.cursor()\n",
        "\n",
        "# Create sales table\n",
        "cursor.execute(\"\"\"\n",
        "CREATE TABLE IF NOT EXISTS sales (\n",
        "    id INTEGER PRIMARY KEY AUTOINCREMENT,\n",
        "    product TEXT,\n",
        "    quantity INTEGER,\n",
        "    price REAL\n",
        ")\n",
        "\"\"\")\n",
        "\n",
        "# Insert sample data\n",
        "sample_data = [\n",
        "    ('Product A', 10, 15.0),\n",
        "    ('Product B', 5, 30.0),\n",
        "    ('Product A', 7, 15.0),\n",
        "    ('Product C', 12, 20.0),\n",
        "    ('Product B', 4, 30.0),\n",
        "    ('Product C', 3, 20.0)\n",
        "]\n",
        "\n",
        "cursor.executemany(\"INSERT INTO sales (product, quantity, price) VALUES (?, ?, ?)\", sample_data)\n",
        "conn.commit()\n",
        "conn.close()\n",
        "\n",
        "print(\"sales_data.db created with sample data.\")\n"
      ]
    },
    {
      "cell_type": "code",
      "source": [
        "import sqlite3\n",
        "import pandas as pd\n",
        "import matplotlib.pyplot as plt\n",
        "\n",
        "# Reconnect to the database\n",
        "conn = sqlite3.connect(\"sales_data.db\")\n",
        "\n",
        "# SQL query\n",
        "query = \"\"\"\n",
        "SELECT\n",
        "    product,\n",
        "    SUM(quantity) AS total_qty,\n",
        "    SUM(quantity * price) AS revenue\n",
        "FROM sales\n",
        "GROUP BY product\n",
        "\"\"\"\n",
        "\n",
        "# Execute and load into pandas DataFrame\n",
        "df = pd.read_sql_query(query, conn)\n",
        "conn.close()\n",
        "\n",
        "# Show result\n",
        "print(\"Sales Summary:\")\n",
        "print(df)\n"
      ],
      "metadata": {
        "colab": {
          "base_uri": "https://localhost:8080/"
        },
        "id": "hLSa1BHosKUo",
        "outputId": "d4cc3a10-de3c-4f15-8651-e09e7f60584c"
      },
      "execution_count": 2,
      "outputs": [
        {
          "output_type": "stream",
          "name": "stdout",
          "text": [
            "Sales Summary:\n",
            "     product  total_qty  revenue\n",
            "0  Product A         17    255.0\n",
            "1  Product B          9    270.0\n",
            "2  Product C         15    300.0\n"
          ]
        }
      ]
    },
    {
      "cell_type": "code",
      "source": [
        "# Plot revenue per product\n",
        "df.plot(kind='bar', x='product', y='revenue', title='Revenue by Product', legend=False)\n",
        "plt.ylabel('Revenue')\n",
        "plt.tight_layout()\n",
        "plt.savefig(\"sales_chart.png\")  # Save the chart\n",
        "plt.show()\n"
      ],
      "metadata": {
        "colab": {
          "base_uri": "https://localhost:8080/",
          "height": 487
        },
        "id": "YZEQd7DusY0r",
        "outputId": "fc754419-433c-4b0a-cd8f-c2441570cc45"
      },
      "execution_count": 3,
      "outputs": [
        {
          "output_type": "display_data",
          "data": {
            "text/plain": [
              "<Figure size 640x480 with 1 Axes>"
            ],
            "image/png": "[encoded data removed]"
          },
          "metadata": {}
        }
      ]
    }
  ]
}